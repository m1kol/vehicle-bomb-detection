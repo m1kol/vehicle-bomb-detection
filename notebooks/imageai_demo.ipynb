{
 "cells": [
  {
   "cell_type": "code",
   "execution_count": 1,
   "id": "a6825271",
   "metadata": {},
   "outputs": [
    {
     "name": "stderr",
     "output_type": "stream",
     "text": [
      "2021-11-30 09:47:54.968942: I tensorflow/stream_executor/platform/default/dso_loader.cc:49] Successfully opened dynamic library libcudart.so.11.0\n"
     ]
    }
   ],
   "source": [
    "import tensorflow as tf"
   ]
  },
  {
   "cell_type": "code",
   "execution_count": 2,
   "id": "39748a84",
   "metadata": {},
   "outputs": [
    {
     "name": "stderr",
     "output_type": "stream",
     "text": [
      "2021-11-30 09:47:55.678678: I tensorflow/compiler/jit/xla_cpu_device.cc:41] Not creating XLA devices, tf_xla_enable_xla_devices not set\n",
      "2021-11-30 09:47:55.679116: I tensorflow/stream_executor/platform/default/dso_loader.cc:49] Successfully opened dynamic library libcuda.so.1\n",
      "2021-11-30 09:47:55.711436: I tensorflow/stream_executor/cuda/cuda_gpu_executor.cc:941] successful NUMA node read from SysFS had negative value (-1), but there must be at least one NUMA node, so returning NUMA node zero\n",
      "2021-11-30 09:47:55.711654: I tensorflow/core/common_runtime/gpu/gpu_device.cc:1720] Found device 0 with properties: \n",
      "pciBusID: 0000:07:00.0 name: NVIDIA GeForce RTX 2060 SUPER computeCapability: 7.5\n",
      "coreClock: 1.665GHz coreCount: 34 deviceMemorySize: 7.77GiB deviceMemoryBandwidth: 417.29GiB/s\n",
      "2021-11-30 09:47:55.711667: I tensorflow/stream_executor/platform/default/dso_loader.cc:49] Successfully opened dynamic library libcudart.so.11.0\n",
      "2021-11-30 09:47:55.713954: I tensorflow/stream_executor/platform/default/dso_loader.cc:49] Successfully opened dynamic library libcublas.so.11\n",
      "2021-11-30 09:47:55.713980: I tensorflow/stream_executor/platform/default/dso_loader.cc:49] Successfully opened dynamic library libcublasLt.so.11\n",
      "2021-11-30 09:47:55.735334: I tensorflow/stream_executor/platform/default/dso_loader.cc:49] Successfully opened dynamic library libcufft.so.10\n",
      "2021-11-30 09:47:55.735505: I tensorflow/stream_executor/platform/default/dso_loader.cc:49] Successfully opened dynamic library libcurand.so.10\n",
      "2021-11-30 09:47:55.735556: W tensorflow/stream_executor/platform/default/dso_loader.cc:60] Could not load dynamic library 'libcusolver.so.10'; dlerror: libcusolver.so.10: cannot open shared object file: No such file or directory; LD_LIBRARY_PATH: :/usr/local/cuda/extras/CUPTI/lib64\n",
      "2021-11-30 09:47:55.736035: I tensorflow/stream_executor/platform/default/dso_loader.cc:49] Successfully opened dynamic library libcusparse.so.11\n",
      "2021-11-30 09:47:55.736114: I tensorflow/stream_executor/platform/default/dso_loader.cc:49] Successfully opened dynamic library libcudnn.so.8\n",
      "2021-11-30 09:47:55.736121: W tensorflow/core/common_runtime/gpu/gpu_device.cc:1757] Cannot dlopen some GPU libraries. Please make sure the missing libraries mentioned above are installed properly if you would like to use GPU. Follow the guide at https://www.tensorflow.org/install/gpu for how to download and setup the required libraries for your platform.\n",
      "Skipping registering GPU devices...\n"
     ]
    },
    {
     "data": {
      "text/plain": [
       "[PhysicalDevice(name='/physical_device:CPU:0', device_type='CPU')]"
      ]
     },
     "execution_count": 2,
     "metadata": {},
     "output_type": "execute_result"
    }
   ],
   "source": [
    "tf.config.list_physical_devices()"
   ]
  },
  {
   "cell_type": "markdown",
   "id": "75f9828b",
   "metadata": {},
   "source": [
    "---"
   ]
  },
  {
   "cell_type": "code",
   "execution_count": 1,
   "id": "b8ee9e27",
   "metadata": {
    "scrolled": true
   },
   "outputs": [
    {
     "name": "stderr",
     "output_type": "stream",
     "text": [
      "2021-11-30 16:10:32.464769: I tensorflow/stream_executor/platform/default/dso_loader.cc:49] Successfully opened dynamic library libcudart.so.11.0\n"
     ]
    }
   ],
   "source": [
    "from imageai.Detection.Custom import DetectionModelTrainer"
   ]
  },
  {
   "cell_type": "code",
   "execution_count": 5,
   "id": "f9344b78",
   "metadata": {
    "scrolled": true
   },
   "outputs": [
    {
     "name": "stdout",
     "output_type": "stream",
     "text": [
      "Generating anchor boxes for training images and annotation...\n",
      "Average IOU for 9 anchors: 1.00\n",
      "Anchor Boxes generated.\n",
      "Detection configuration saved in  ../../data/bombs_on_black/json/detection_config.json\n",
      "Evaluating over 29 samples taken from ../../data/bombs_on_black/validation\n",
      "Training over 91 samples  given at ../../data/bombs_on_black/train\n",
      "Training on: \t['bomb']\n",
      "Training with Batch Size:  4\n",
      "Number of Training Samples:  91\n",
      "Number of Validation Samples:  29\n",
      "Number of Experiments:  5\n"
     ]
    },
    {
     "name": "stderr",
     "output_type": "stream",
     "text": [
      "2021-11-30 10:27:54.986273: I tensorflow/compiler/jit/xla_gpu_device.cc:99] Not creating XLA devices, tf_xla_enable_xla_devices not set\n",
      "2021-11-30 10:27:54.986303: I tensorflow/core/common_runtime/gpu/gpu_device.cc:1261] Device interconnect StreamExecutor with strength 1 edge matrix:\n",
      "2021-11-30 10:27:54.986307: I tensorflow/core/common_runtime/gpu/gpu_device.cc:1267]      \n"
     ]
    },
    {
     "name": "stdout",
     "output_type": "stream",
     "text": [
      "Training with transfer learning from pretrained Model\n",
      "WARNING:tensorflow:`period` argument is deprecated. Please use `save_freq` to specify the frequency in number of batches seen.\n",
      "WARNING:tensorflow:`epsilon` argument is deprecated and will be removed, use `min_delta` instead.\n",
      "WARNING:tensorflow:Model failed to serialize as JSON. Ignoring... Layer YoloLayer has arguments in `__init__` and therefore must override `get_config`.\n",
      "Epoch 1/5\n"
     ]
    },
    {
     "name": "stderr",
     "output_type": "stream",
     "text": [
      "2021-11-30 10:27:59.582934: I tensorflow/core/profiler/lib/profiler_session.cc:136] Profiler session initializing.\n",
      "2021-11-30 10:27:59.582960: I tensorflow/core/profiler/lib/profiler_session.cc:155] Profiler session started.\n",
      "2021-11-30 10:27:59.582977: I tensorflow/core/profiler/internal/gpu/cupti_tracer.cc:1365] Profiler found 1 GPUs\n",
      "2021-11-30 10:27:59.583131: W tensorflow/stream_executor/platform/default/dso_loader.cc:60] Could not load dynamic library 'libcupti.so.11.0'; dlerror: libcupti.so.11.0: cannot open shared object file: No such file or directory; LD_LIBRARY_PATH: /home/michael/Documents/TPPI/diplom/project/env37/lib/python3.7/site-packages/cv2/../../lib64::/usr/local/cuda/extras/CUPTI/lib64\n",
      "2021-11-30 10:27:59.588148: I tensorflow/stream_executor/platform/default/dso_loader.cc:49] Successfully opened dynamic library libcupti.so\n",
      "2021-11-30 10:27:59.607789: I tensorflow/core/profiler/lib/profiler_session.cc:172] Profiler session tear down.\n",
      "2021-11-30 10:27:59.607866: I tensorflow/core/profiler/internal/gpu/cupti_tracer.cc:1487] CUPTI activity buffer flushed\n",
      "/home/michael/Documents/TPPI/diplom/project/env37/lib/python3.7/site-packages/tensorflow/python/keras/engine/training.py:1844: UserWarning: `Model.fit_generator` is deprecated and will be removed in a future version. Please use `Model.fit`, which supports generators.\n",
      "  warnings.warn('`Model.fit_generator` is deprecated and '\n",
      "/home/michael/Documents/TPPI/diplom/project/env37/lib/python3.7/site-packages/tensorflow/python/data/ops/dataset_ops.py:3504: UserWarning: Even though the tf.config.experimental_run_functions_eagerly option is set, this option does not apply to tf.data functions. tf.data functions are still traced and executed as graphs.\n",
      "  \"Even though the tf.config.experimental_run_functions_eagerly \"\n",
      "2021-11-30 10:27:59.736278: I tensorflow/compiler/mlir/mlir_graph_optimization_pass.cc:116] None of the MLIR optimization passes are enabled (registered 2)\n",
      "2021-11-30 10:27:59.736563: I tensorflow/core/platform/profile_utils/cpu_utils.cc:112] CPU Frequency: 3794165000 Hz\n"
     ]
    },
    {
     "name": "stdout",
     "output_type": "stream",
     "text": [
      "\r",
      "  1/184 [..............................] - ETA: 10:53 - loss: 156.2013 - yolo_layer_loss: 26.1901 - yolo_layer_1_loss: 43.7629 - yolo_layer_2_loss: 74.6754"
     ]
    },
    {
     "name": "stderr",
     "output_type": "stream",
     "text": [
      "2021-11-30 10:28:03.321145: I tensorflow/core/profiler/lib/profiler_session.cc:136] Profiler session initializing.\n",
      "2021-11-30 10:28:03.321168: I tensorflow/core/profiler/lib/profiler_session.cc:155] Profiler session started.\n"
     ]
    },
    {
     "name": "stdout",
     "output_type": "stream",
     "text": [
      "\b\b\b\b\b\b\b\b\b\b\b\b\b\b\b\b\b\b\b\b\b\b\b\b\b\b\b\b\b\b\b\b\b\b\b\b\b\b\b\b\b\b\b\b\b\b\b\b\b\b\b\b\b\b\b\b\b\b\b\b\b\b\b\b\b\b\b\b\b\b\b\b\b\b\b\b\b\b\b\b\b\b\b\b\b\b\b\b\b\b\b\b\b\b\b\b\b\b\b\b\b\b\b\b\b\b\b\b\b\b\b\b\b\b\b\b\b\b\b\b\b\b\b\b\b\b\b\b\b\b\b\b\b\b\b\b\b\b\b\b\b\b\b\b\b\b\b\b\b\b\b\b\b\b\b\r",
      "  2/184 [..............................] - ETA: 10:11 - loss: 154.8395 - yolo_layer_loss: 26.0395 - yolo_layer_1_loss: 43.3985 - yolo_layer_2_loss: 73.8287"
     ]
    },
    {
     "name": "stderr",
     "output_type": "stream",
     "text": [
      "2021-11-30 10:28:06.681044: I tensorflow/core/profiler/lib/profiler_session.cc:71] Profiler session collecting data.\n",
      "2021-11-30 10:28:06.681487: I tensorflow/core/profiler/internal/gpu/cupti_tracer.cc:1487] CUPTI activity buffer flushed\n",
      "2021-11-30 10:28:06.736290: I tensorflow/core/profiler/internal/gpu/cupti_collector.cc:228]  GpuTracer has collected 0 callback api events and 0 activity events. \n",
      "2021-11-30 10:28:06.750887: I tensorflow/core/profiler/lib/profiler_session.cc:172] Profiler session tear down.\n"
     ]
    },
    {
     "name": "stdout",
     "output_type": "stream",
     "text": [
      "184/184 [==============================] - 574s 3s/step - loss: 77.1967 - yolo_layer_loss: 16.0104 - yolo_layer_1_loss: 17.0185 - yolo_layer_2_loss: 32.5958 - val_loss: 35.8960 - val_yolo_layer_loss: 12.8183 - val_yolo_layer_1_loss: 2.1524 - val_yolo_layer_2_loss: 9.4265\n",
      "Epoch 2/5\n",
      "184/184 [==============================] - 586s 3s/step - loss: 18.4481 - yolo_layer_loss: 4.2489 - yolo_layer_1_loss: 0.2361 - yolo_layer_2_loss: 2.5746 - val_loss: 18.3387 - val_yolo_layer_loss: 6.5721 - val_yolo_layer_1_loss: 0.0398 - val_yolo_layer_2_loss: 0.8665\n",
      "Epoch 3/5\n",
      "184/184 [==============================] - 572s 3s/step - loss: 14.0625 - yolo_layer_loss: 3.0099 - yolo_layer_1_loss: 0.0101 - yolo_layer_2_loss: 0.4422 - val_loss: 13.1886 - val_yolo_layer_loss: 3.3206 - val_yolo_layer_1_loss: 0.0075 - val_yolo_layer_2_loss: 0.1504\n",
      "Epoch 4/5\n",
      "184/184 [==============================] - 615s 3s/step - loss: 12.2688 - yolo_layer_loss: 2.7738 - yolo_layer_1_loss: 4.5512e-04 - yolo_layer_2_loss: 0.0667 - val_loss: 10.4603 - val_yolo_layer_loss: 1.8118 - val_yolo_layer_1_loss: 6.2213e-04 - val_yolo_layer_2_loss: 0.0481\n",
      "Epoch 5/5\n",
      "184/184 [==============================] - 633s 3s/step - loss: 10.4392 - yolo_layer_loss: 2.0697 - yolo_layer_1_loss: 9.0872e-05 - yolo_layer_2_loss: 0.0088 - val_loss: 10.2402 - val_yolo_layer_loss: 2.5150 - val_yolo_layer_1_loss: 1.3884e-04 - val_yolo_layer_2_loss: 0.0128\n"
     ]
    }
   ],
   "source": [
    "trainer = DetectionModelTrainer()\n",
    "trainer.setModelTypeAsYOLOv3()\n",
    "trainer.setDataDirectory(data_directory=\"../../data/bombs_on_black/\")\n",
    "trainer.setTrainConfig(object_names_array=[\"bomb\"], batch_size=4, num_experiments=5, train_from_pretrained_model=\"pretrained-yolov3.h5\")\n",
    "trainer.trainModel()"
   ]
  },
  {
   "cell_type": "code",
   "execution_count": 8,
   "id": "367562a3",
   "metadata": {},
   "outputs": [
    {
     "data": {
      "text/plain": [
       "<imageai.Detection.Custom.DetectionModelTrainer at 0x7ff8ab3bc110>"
      ]
     },
     "execution_count": 8,
     "metadata": {},
     "output_type": "execute_result"
    }
   ],
   "source": [
    "trainer"
   ]
  },
  {
   "cell_type": "code",
   "execution_count": 9,
   "id": "979d4b93",
   "metadata": {
    "scrolled": true
   },
   "outputs": [
    {
     "name": "stdout",
     "output_type": "stream",
     "text": [
      "Starting Model evaluation....\n",
      "Evaluating over 29 samples taken from ../../data/bombs_on_black/validation\n",
      "Training over 91 samples  given at ../../data/bombs_on_black/train\n",
      "WARNING:tensorflow:No training configuration found in the save file, so the model was *not* compiled. Compile it manually.\n",
      "Model File:  ../../data/bombs_on_black/models/detection_model-ex-001--loss-0046.842.h5 \n",
      "\n",
      "Evaluation samples:  29\n",
      "Using IoU:  0.5\n",
      "Using Object Threshold:  0.3\n",
      "Using Non-Maximum Suppression:  0.5\n",
      "bomb: 0.0000\n",
      "mAP: 0.0000\n",
      "===============================\n",
      "WARNING:tensorflow:No training configuration found in the save file, so the model was *not* compiled. Compile it manually.\n",
      "Model File:  ../../data/bombs_on_black/models/detection_model-ex-001--loss-0056.649.h5 \n",
      "\n",
      "Evaluation samples:  29\n",
      "Using IoU:  0.5\n",
      "Using Object Threshold:  0.3\n",
      "Using Non-Maximum Suppression:  0.5\n",
      "bomb: 0.0000\n",
      "mAP: 0.0000\n",
      "===============================\n",
      "WARNING:tensorflow:No training configuration found in the save file, so the model was *not* compiled. Compile it manually.\n",
      "Model File:  ../../data/bombs_on_black/models/detection_model-ex-002--loss-0016.793.h5 \n",
      "\n",
      "Evaluation samples:  29\n",
      "Using IoU:  0.5\n",
      "Using Object Threshold:  0.3\n",
      "Using Non-Maximum Suppression:  0.5\n",
      "bomb: 0.0000\n",
      "mAP: 0.0000\n",
      "===============================\n",
      "WARNING:tensorflow:No training configuration found in the save file, so the model was *not* compiled. Compile it manually.\n",
      "Model File:  ../../data/bombs_on_black/models/detection_model-ex-003--loss-0013.442.h5 \n",
      "\n",
      "Evaluation samples:  29\n",
      "Using IoU:  0.5\n",
      "Using Object Threshold:  0.3\n",
      "Using Non-Maximum Suppression:  0.5\n",
      "bomb: 0.9116\n",
      "mAP: 0.9116\n",
      "===============================\n",
      "WARNING:tensorflow:No training configuration found in the save file, so the model was *not* compiled. Compile it manually.\n",
      "Model File:  ../../data/bombs_on_black/models/detection_model-ex-004--loss-0011.737.h5 \n",
      "\n",
      "Evaluation samples:  29\n",
      "Using IoU:  0.5\n",
      "Using Object Threshold:  0.3\n",
      "Using Non-Maximum Suppression:  0.5\n",
      "bomb: 1.0000\n",
      "mAP: 1.0000\n",
      "===============================\n",
      "WARNING:tensorflow:No training configuration found in the save file, so the model was *not* compiled. Compile it manually.\n",
      "Model File:  ../../data/bombs_on_black/models/detection_model-ex-005--loss-0010.208.h5 \n",
      "\n",
      "Evaluation samples:  29\n",
      "Using IoU:  0.5\n",
      "Using Object Threshold:  0.3\n",
      "Using Non-Maximum Suppression:  0.5\n",
      "bomb: 1.0000\n",
      "mAP: 1.0000\n",
      "===============================\n"
     ]
    },
    {
     "data": {
      "text/plain": [
       "[{'model_file': '../../data/bombs_on_black/models/detection_model-ex-001--loss-0046.842.h5',\n",
       "  'using_iou': 0.5,\n",
       "  'using_object_threshold': 0.3,\n",
       "  'using_non_maximum_suppression': 0.5,\n",
       "  'average_precision': {'bomb': 0.0},\n",
       "  'evaluation_samples': 29,\n",
       "  'map': 0.0},\n",
       " {'model_file': '../../data/bombs_on_black/models/detection_model-ex-001--loss-0056.649.h5',\n",
       "  'using_iou': 0.5,\n",
       "  'using_object_threshold': 0.3,\n",
       "  'using_non_maximum_suppression': 0.5,\n",
       "  'average_precision': {'bomb': 0.0},\n",
       "  'evaluation_samples': 29,\n",
       "  'map': 0.0},\n",
       " {'model_file': '../../data/bombs_on_black/models/detection_model-ex-002--loss-0016.793.h5',\n",
       "  'using_iou': 0.5,\n",
       "  'using_object_threshold': 0.3,\n",
       "  'using_non_maximum_suppression': 0.5,\n",
       "  'average_precision': {'bomb': 0.0},\n",
       "  'evaluation_samples': 29,\n",
       "  'map': 0.0},\n",
       " {'model_file': '../../data/bombs_on_black/models/detection_model-ex-003--loss-0013.442.h5',\n",
       "  'using_iou': 0.5,\n",
       "  'using_object_threshold': 0.3,\n",
       "  'using_non_maximum_suppression': 0.5,\n",
       "  'average_precision': {'bomb': 0.9115826702033599},\n",
       "  'evaluation_samples': 29,\n",
       "  'map': 0.9115826702033599},\n",
       " {'model_file': '../../data/bombs_on_black/models/detection_model-ex-004--loss-0011.737.h5',\n",
       "  'using_iou': 0.5,\n",
       "  'using_object_threshold': 0.3,\n",
       "  'using_non_maximum_suppression': 0.5,\n",
       "  'average_precision': {'bomb': 1.0},\n",
       "  'evaluation_samples': 29,\n",
       "  'map': 1.0},\n",
       " {'model_file': '../../data/bombs_on_black/models/detection_model-ex-005--loss-0010.208.h5',\n",
       "  'using_iou': 0.5,\n",
       "  'using_object_threshold': 0.3,\n",
       "  'using_non_maximum_suppression': 0.5,\n",
       "  'average_precision': {'bomb': 1.0},\n",
       "  'evaluation_samples': 29,\n",
       "  'map': 1.0}]"
      ]
     },
     "execution_count": 9,
     "metadata": {},
     "output_type": "execute_result"
    }
   ],
   "source": [
    "trainer = DetectionModelTrainer()\n",
    "trainer.setModelTypeAsYOLOv3()\n",
    "trainer.setDataDirectory(data_directory=\"../../data/bombs_on_black/\")\n",
    "trainer.evaluateModel(\n",
    "    model_path=\"../../data/bombs_on_black/models/\",\n",
    "    json_path=\"../../data/bombs_on_black/json/detection_config.json\",\n",
    "    iou_threshold=0.5,\n",
    "    object_threshold=0.3,\n",
    "    nms_threshold=0.5\n",
    ")"
   ]
  },
  {
   "cell_type": "markdown",
   "id": "88a53123",
   "metadata": {},
   "source": [
    "---"
   ]
  },
  {
   "cell_type": "markdown",
   "id": "b6732423",
   "metadata": {},
   "source": [
    "# Applying model"
   ]
  },
  {
   "cell_type": "code",
   "execution_count": 2,
   "id": "52202b8d",
   "metadata": {},
   "outputs": [],
   "source": [
    "import os"
   ]
  },
  {
   "cell_type": "code",
   "execution_count": 3,
   "id": "031c5d82",
   "metadata": {},
   "outputs": [],
   "source": [
    "from imageai.Detection.Custom import CustomObjectDetection"
   ]
  },
  {
   "cell_type": "code",
   "execution_count": 4,
   "id": "7eb05109",
   "metadata": {},
   "outputs": [],
   "source": [
    "excecution_path = \"../../data/bombs_on_black/\""
   ]
  },
  {
   "cell_type": "code",
   "execution_count": 5,
   "id": "567c2ede",
   "metadata": {},
   "outputs": [
    {
     "name": "stderr",
     "output_type": "stream",
     "text": [
      "2021-11-30 16:10:46.246773: I tensorflow/compiler/jit/xla_cpu_device.cc:41] Not creating XLA devices, tf_xla_enable_xla_devices not set\n",
      "2021-11-30 16:10:46.265300: I tensorflow/stream_executor/platform/default/dso_loader.cc:49] Successfully opened dynamic library libcuda.so.1\n",
      "2021-11-30 16:10:46.483894: I tensorflow/stream_executor/cuda/cuda_gpu_executor.cc:941] successful NUMA node read from SysFS had negative value (-1), but there must be at least one NUMA node, so returning NUMA node zero\n",
      "2021-11-30 16:10:46.484133: I tensorflow/core/common_runtime/gpu/gpu_device.cc:1720] Found device 0 with properties: \n",
      "pciBusID: 0000:07:00.0 name: NVIDIA GeForce RTX 2060 SUPER computeCapability: 7.5\n",
      "coreClock: 1.665GHz coreCount: 34 deviceMemorySize: 7.77GiB deviceMemoryBandwidth: 417.29GiB/s\n",
      "2021-11-30 16:10:46.484158: I tensorflow/stream_executor/platform/default/dso_loader.cc:49] Successfully opened dynamic library libcudart.so.11.0\n",
      "2021-11-30 16:10:46.501602: I tensorflow/stream_executor/platform/default/dso_loader.cc:49] Successfully opened dynamic library libcublas.so.11\n",
      "2021-11-30 16:10:46.501652: I tensorflow/stream_executor/platform/default/dso_loader.cc:49] Successfully opened dynamic library libcublasLt.so.11\n",
      "2021-11-30 16:10:46.529094: I tensorflow/stream_executor/platform/default/dso_loader.cc:49] Successfully opened dynamic library libcufft.so.10\n",
      "2021-11-30 16:10:46.531509: I tensorflow/stream_executor/platform/default/dso_loader.cc:49] Successfully opened dynamic library libcurand.so.10\n",
      "2021-11-30 16:10:46.531568: W tensorflow/stream_executor/platform/default/dso_loader.cc:60] Could not load dynamic library 'libcusolver.so.10'; dlerror: libcusolver.so.10: cannot open shared object file: No such file or directory; LD_LIBRARY_PATH: /home/michael/Documents/TPPI/diplom/project/env37/lib/python3.7/site-packages/cv2/../../lib64:\n",
      "2021-11-30 16:10:46.535648: I tensorflow/stream_executor/platform/default/dso_loader.cc:49] Successfully opened dynamic library libcusparse.so.11\n",
      "2021-11-30 16:10:46.536277: I tensorflow/stream_executor/platform/default/dso_loader.cc:49] Successfully opened dynamic library libcudnn.so.8\n",
      "2021-11-30 16:10:46.536286: W tensorflow/core/common_runtime/gpu/gpu_device.cc:1757] Cannot dlopen some GPU libraries. Please make sure the missing libraries mentioned above are installed properly if you would like to use GPU. Follow the guide at https://www.tensorflow.org/install/gpu for how to download and setup the required libraries for your platform.\n",
      "Skipping registering GPU devices...\n",
      "2021-11-30 16:10:46.537362: I tensorflow/compiler/jit/xla_gpu_device.cc:99] Not creating XLA devices, tf_xla_enable_xla_devices not set\n",
      "2021-11-30 16:10:46.537403: I tensorflow/core/common_runtime/gpu/gpu_device.cc:1261] Device interconnect StreamExecutor with strength 1 edge matrix:\n",
      "2021-11-30 16:10:46.537409: I tensorflow/core/common_runtime/gpu/gpu_device.cc:1267]      \n"
     ]
    }
   ],
   "source": [
    "detector = CustomObjectDetection()\n",
    "detector.setModelTypeAsYOLOv3()\n",
    "detector.setModelPath(\"../../data/bombs_on_black/models/detection_model-ex-004--loss-0011.737.h5\")\n",
    "detector.setJsonPath(\"../../data/bombs_on_black/json/detection_config.json\")\n",
    "detector.loadModel()"
   ]
  },
  {
   "cell_type": "code",
   "execution_count": 6,
   "id": "7256ae27",
   "metadata": {},
   "outputs": [
    {
     "name": "stderr",
     "output_type": "stream",
     "text": [
      "/home/michael/Documents/TPPI/diplom/project/env37/lib/python3.7/site-packages/tensorflow/python/data/ops/dataset_ops.py:3504: UserWarning: Even though the tf.config.experimental_run_functions_eagerly option is set, this option does not apply to tf.data functions. tf.data functions are still traced and executed as graphs.\n",
      "  \"Even though the tf.config.experimental_run_functions_eagerly \"\n",
      "2021-11-30 16:10:51.594408: I tensorflow/compiler/mlir/mlir_graph_optimization_pass.cc:116] None of the MLIR optimization passes are enabled (registered 2)\n",
      "2021-11-30 16:10:51.664659: I tensorflow/core/platform/profile_utils/cpu_utils.cc:112] CPU Frequency: 3794245000 Hz\n"
     ]
    }
   ],
   "source": [
    "detections = detector.detectObjectsFromImage(\n",
    "    input_image=\"../../data/bombs_on_black/validation/images/frame_000091.PNG\",\n",
    "    output_image_path=\"bomb_pred.png\",\n",
    "    minimum_percentage_probability=20\n",
    ")"
   ]
  },
  {
   "cell_type": "code",
   "execution_count": 7,
   "id": "cfe960b7",
   "metadata": {},
   "outputs": [
    {
     "name": "stdout",
     "output_type": "stream",
     "text": [
      "bomb  :  46.38519883155823  :  [325, 153, 389, 206]\n"
     ]
    }
   ],
   "source": [
    "for detection in detections:\n",
    "    print(detection[\"name\"], \" : \", detection[\"percentage_probability\"], \" : \", detection[\"box_points\"])"
   ]
  },
  {
   "cell_type": "markdown",
   "id": "4b93d227",
   "metadata": {},
   "source": [
    "---"
   ]
  },
  {
   "cell_type": "code",
   "execution_count": 53,
   "id": "73d0ccaf",
   "metadata": {},
   "outputs": [],
   "source": [
    "detections = detector.detectObjectsFromImage(\n",
    "    input_image=\"../data/generated_images/image_0.png\",\n",
    "    output_image_path=\"bomb1_pred.png\",\n",
    "    minimum_percentage_probability=1\n",
    ")"
   ]
  },
  {
   "cell_type": "code",
   "execution_count": 54,
   "id": "9120ab4c",
   "metadata": {},
   "outputs": [
    {
     "name": "stdout",
     "output_type": "stream",
     "text": [
      "bomb  :  2.580212987959385  :  [594, 47, 594, 47]\n",
      "bomb  :  1.2111680582165718  :  [0, 83, 145, 194]\n",
      "bomb  :  1.0861891321837902  :  [625, 573, 625, 573]\n",
      "bomb  :  2.354692853987217  :  [0, 581, 64, 664]\n",
      "bomb  :  1.8776901066303253  :  [11, 564, 120, 664]\n"
     ]
    }
   ],
   "source": [
    "for detection in detections:\n",
    "    print(detection[\"name\"], \" : \", detection[\"percentage_probability\"], \" : \", detection[\"box_points\"])"
   ]
  },
  {
   "cell_type": "markdown",
   "id": "41dbb9d4",
   "metadata": {},
   "source": [
    "---"
   ]
  },
  {
   "cell_type": "markdown",
   "id": "9136f05d",
   "metadata": {},
   "source": [
    "----"
   ]
  },
  {
   "cell_type": "code",
   "execution_count": 55,
   "id": "a7d805e8",
   "metadata": {
    "scrolled": true
   },
   "outputs": [
    {
     "name": "stdout",
     "output_type": "stream",
     "text": [
      "Generating anchor boxes for training images and annotation...\n",
      "Average IOU for 9 anchors: 0.97\n",
      "Anchor Boxes generated.\n",
      "Detection configuration saved in  bomb_detection/json/detection_config.json\n",
      "Evaluating over 13 samples taken from bomb_detection/validation\n",
      "Training over 46 samples  given at bomb_detection/train\n",
      "Training on: \t['bomb']\n",
      "Training with Batch Size:  4\n",
      "Number of Training Samples:  46\n",
      "Number of Validation Samples:  13\n",
      "Number of Experiments:  3\n",
      "Training with transfer learning from pretrained Model\n",
      "WARNING:tensorflow:`period` argument is deprecated. Please use `save_freq` to specify the frequency in number of batches seen.\n",
      "WARNING:tensorflow:`epsilon` argument is deprecated and will be removed, use `min_delta` instead.\n",
      "WARNING:tensorflow:Model failed to serialize as JSON. Ignoring... Layer YoloLayer has arguments in `__init__` and therefore must override `get_config`.\n",
      "Epoch 1/3\n"
     ]
    },
    {
     "name": "stderr",
     "output_type": "stream",
     "text": [
      "/home/michael/Documents/TPPI/diplom/project/env37/lib/python3.7/site-packages/tensorflow/python/keras/engine/training.py:1844: UserWarning: `Model.fit_generator` is deprecated and will be removed in a future version. Please use `Model.fit`, which supports generators.\n",
      "  warnings.warn('`Model.fit_generator` is deprecated and '\n",
      "2021-11-30 14:58:02.804046: I tensorflow/core/profiler/lib/profiler_session.cc:136] Profiler session initializing.\n",
      "2021-11-30 14:58:02.804072: I tensorflow/core/profiler/lib/profiler_session.cc:155] Profiler session started.\n",
      "2021-11-30 14:58:02.806736: I tensorflow/core/profiler/lib/profiler_session.cc:172] Profiler session tear down.\n",
      "2021-11-30 14:58:02.806783: I tensorflow/core/profiler/internal/gpu/cupti_tracer.cc:1487] CUPTI activity buffer flushed\n",
      "/home/michael/Documents/TPPI/diplom/project/env37/lib/python3.7/site-packages/tensorflow/python/data/ops/dataset_ops.py:3504: UserWarning: Even though the tf.config.experimental_run_functions_eagerly option is set, this option does not apply to tf.data functions. tf.data functions are still traced and executed as graphs.\n",
      "  \"Even though the tf.config.experimental_run_functions_eagerly \"\n"
     ]
    },
    {
     "name": "stdout",
     "output_type": "stream",
     "text": [
      "\r",
      " 1/96 [..............................] - ETA: 4:15 - loss: 25.8374 - yolo_layer_3_loss: 12.9587 - yolo_layer_4_loss: 0.0125 - yolo_layer_5_loss: 1.2846"
     ]
    },
    {
     "name": "stderr",
     "output_type": "stream",
     "text": [
      "2021-11-30 14:58:05.581968: I tensorflow/core/profiler/lib/profiler_session.cc:136] Profiler session initializing.\n",
      "2021-11-30 14:58:05.582000: I tensorflow/core/profiler/lib/profiler_session.cc:155] Profiler session started.\n"
     ]
    },
    {
     "name": "stdout",
     "output_type": "stream",
     "text": [
      "\b\b\b\b\b\b\b\b\b\b\b\b\b\b\b\b\b\b\b\b\b\b\b\b\b\b\b\b\b\b\b\b\b\b\b\b\b\b\b\b\b\b\b\b\b\b\b\b\b\b\b\b\b\b\b\b\b\b\b\b\b\b\b\b\b\b\b\b\b\b\b\b\b\b\b\b\b\b\b\b\b\b\b\b\b\b\b\b\b\b\b\b\b\b\b\b\b\b\b\b\b\b\b\b\b\b\b\b\b\b\b\b\b\b\b\b\b\b\b\b\b\b\b\b\b\b\b\b\b\b\b\b\b\b\b\b\b\b\b\b\b\b\b\b\b\b\b\b\b\b\b\r",
      " 2/96 [..............................] - ETA: 3:48 - loss: 26.0267 - yolo_layer_3_loss: 13.2388 - yolo_layer_4_loss: 0.0128 - yolo_layer_5_loss: 1.1934"
     ]
    },
    {
     "name": "stderr",
     "output_type": "stream",
     "text": [
      "2021-11-30 14:58:08.009610: I tensorflow/core/profiler/lib/profiler_session.cc:71] Profiler session collecting data.\n",
      "2021-11-30 14:58:08.010026: I tensorflow/core/profiler/internal/gpu/cupti_tracer.cc:1487] CUPTI activity buffer flushed\n",
      "2021-11-30 14:58:08.044626: I tensorflow/core/profiler/internal/gpu/cupti_collector.cc:228]  GpuTracer has collected 0 callback api events and 0 activity events. \n",
      "2021-11-30 14:58:08.060153: I tensorflow/core/profiler/lib/profiler_session.cc:172] Profiler session tear down.\n"
     ]
    },
    {
     "name": "stdout",
     "output_type": "stream",
     "text": [
      "96/96 [==============================] - 288s 3s/step - loss: 24.3394 - yolo_layer_3_loss: 12.3172 - yolo_layer_4_loss: 0.0056 - yolo_layer_5_loss: 0.4545 - val_loss: 29.9180 - val_yolo_layer_3_loss: 11.3212 - val_yolo_layer_4_loss: 0.8489 - val_yolo_layer_5_loss: 6.3843\n",
      "Epoch 2/3\n",
      "96/96 [==============================] - 285s 3s/step - loss: 23.2441 - yolo_layer_3_loss: 11.9842 - yolo_layer_4_loss: 2.4057e-04 - yolo_layer_5_loss: 0.0255 - val_loss: 22.2087 - val_yolo_layer_3_loss: 11.3006 - val_yolo_layer_4_loss: 0.0489 - val_yolo_layer_5_loss: 0.0356\n",
      "Epoch 3/3\n",
      "96/96 [==============================] - 295s 3s/step - loss: 18.0124 - yolo_layer_3_loss: 7.3099 - yolo_layer_4_loss: 6.3631e-05 - yolo_layer_5_loss: 0.0039 - val_loss: 57.8452 - val_yolo_layer_3_loss: 47.4482 - val_yolo_layer_4_loss: 0.0149 - val_yolo_layer_5_loss: 0.0063\n"
     ]
    }
   ],
   "source": [
    "trainer = DetectionModelTrainer()\n",
    "trainer.setModelTypeAsYOLOv3()\n",
    "trainer.setDataDirectory(data_directory=\"bomb_detection/\")\n",
    "trainer.setTrainConfig(\n",
    "    object_names_array=[\"bomb\"],\n",
    "    batch_size=4,\n",
    "    num_experiments=3,\n",
    "    train_from_pretrained_model=\"../../data/bombs_on_black/models/detection_model-ex-005--loss-0010.208.h5\"\n",
    ")\n",
    "trainer.trainModel()"
   ]
  },
  {
   "cell_type": "code",
   "execution_count": 56,
   "id": "5b030449",
   "metadata": {
    "scrolled": true
   },
   "outputs": [
    {
     "name": "stdout",
     "output_type": "stream",
     "text": [
      "Starting Model evaluation....\n",
      "Evaluating over 13 samples taken from bomb_detection/validation\n",
      "Training over 46 samples  given at bomb_detection/train\n",
      "WARNING:tensorflow:No training configuration found in the save file, so the model was *not* compiled. Compile it manually.\n",
      "Model File:  bomb_detection/models/detection_model-ex-001--loss-0023.772.h5 \n",
      "\n",
      "Evaluation samples:  13\n",
      "Using IoU:  0.5\n",
      "Using Object Threshold:  0.3\n",
      "Using Non-Maximum Suppression:  0.5\n",
      "bomb: 0.0000\n",
      "mAP: 0.0000\n",
      "===============================\n",
      "WARNING:tensorflow:No training configuration found in the save file, so the model was *not* compiled. Compile it manually.\n",
      "Model File:  bomb_detection/models/detection_model-ex-002--loss-0022.012.h5 \n",
      "\n",
      "Evaluation samples:  13\n",
      "Using IoU:  0.5\n",
      "Using Object Threshold:  0.3\n",
      "Using Non-Maximum Suppression:  0.5\n",
      "bomb: 0.0000\n",
      "mAP: 0.0000\n",
      "===============================\n",
      "WARNING:tensorflow:No training configuration found in the save file, so the model was *not* compiled. Compile it manually.\n",
      "Model File:  bomb_detection/models/detection_model-ex-003--loss-0017.325.h5 \n",
      "\n",
      "Evaluation samples:  13\n",
      "Using IoU:  0.5\n",
      "Using Object Threshold:  0.3\n",
      "Using Non-Maximum Suppression:  0.5\n",
      "bomb: 0.0000\n",
      "mAP: 0.0000\n",
      "===============================\n"
     ]
    },
    {
     "data": {
      "text/plain": [
       "[{'model_file': 'bomb_detection/models/detection_model-ex-001--loss-0023.772.h5',\n",
       "  'using_iou': 0.5,\n",
       "  'using_object_threshold': 0.3,\n",
       "  'using_non_maximum_suppression': 0.5,\n",
       "  'average_precision': {'bomb': 0.0},\n",
       "  'evaluation_samples': 13,\n",
       "  'map': 0.0},\n",
       " {'model_file': 'bomb_detection/models/detection_model-ex-002--loss-0022.012.h5',\n",
       "  'using_iou': 0.5,\n",
       "  'using_object_threshold': 0.3,\n",
       "  'using_non_maximum_suppression': 0.5,\n",
       "  'average_precision': {'bomb': 0.0},\n",
       "  'evaluation_samples': 13,\n",
       "  'map': 0.0},\n",
       " {'model_file': 'bomb_detection/models/detection_model-ex-003--loss-0017.325.h5',\n",
       "  'using_iou': 0.5,\n",
       "  'using_object_threshold': 0.3,\n",
       "  'using_non_maximum_suppression': 0.5,\n",
       "  'average_precision': {'bomb': 0.0},\n",
       "  'evaluation_samples': 13,\n",
       "  'map': 0.0}]"
      ]
     },
     "execution_count": 56,
     "metadata": {},
     "output_type": "execute_result"
    }
   ],
   "source": [
    "trainer = DetectionModelTrainer()\n",
    "trainer.setModelTypeAsYOLOv3()\n",
    "trainer.setDataDirectory(data_directory=\"bomb_detection/\")\n",
    "trainer.evaluateModel(\n",
    "    model_path=\"bomb_detection/models/\",\n",
    "    json_path=\"bomb_detection/json/detection_config.json\",\n",
    "    iou_threshold=0.5,\n",
    "    object_threshold=0.3,\n",
    "    nms_threshold=0.5\n",
    ")"
   ]
  },
  {
   "cell_type": "code",
   "execution_count": null,
   "id": "c8864623",
   "metadata": {},
   "outputs": [],
   "source": []
  }
 ],
 "metadata": {
  "kernelspec": {
   "display_name": "Python 3 (ipykernel)",
   "language": "python",
   "name": "python3"
  },
  "language_info": {
   "codemirror_mode": {
    "name": "ipython",
    "version": 3
   },
   "file_extension": ".py",
   "mimetype": "text/x-python",
   "name": "python",
   "nbconvert_exporter": "python",
   "pygments_lexer": "ipython3",
   "version": "3.7.12"
  }
 },
 "nbformat": 4,
 "nbformat_minor": 5
}
