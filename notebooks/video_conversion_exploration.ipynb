{
 "cells": [
  {
   "cell_type": "code",
   "execution_count": null,
   "id": "86cd10cc",
   "metadata": {},
   "outputs": [],
   "source": [
    "import os\n",
    "import sys\n",
    "\n",
    "import cv2\n",
    "import numpy as np\n",
    "import matplotlib.pyplot as plt\n",
    "from PIL import Image"
   ]
  },
  {
   "cell_type": "code",
   "execution_count": null,
   "id": "5ffe79e5",
   "metadata": {},
   "outputs": [],
   "source": [
    "sys.path.append(\"../src/\")"
   ]
  },
  {
   "cell_type": "code",
   "execution_count": null,
   "id": "c070a995",
   "metadata": {},
   "outputs": [],
   "source": [
    "from frames_convertion import frequency_conversion, amplitude_conversion"
   ]
  },
  {
   "cell_type": "markdown",
   "id": "a2e235b9",
   "metadata": {},
   "source": [
    "# Loading video"
   ]
  },
  {
   "cell_type": "code",
   "execution_count": null,
   "id": "48bbe7f3",
   "metadata": {},
   "outputs": [],
   "source": [
    "video_name = \"video2\"\n",
    "video = cv2.VideoCapture(f\"../data/videos/{video_name}.mp4\")\n",
    "is_read, frame = video.read()\n",
    "image_buffer = [frame]\n",
    "\n",
    "while is_read:\n",
    "    is_read, frame = video.read()\n",
    "    image_buffer.append(frame)\n",
    "\n",
    "video.release()\n",
    "\n",
    "image_buffer = image_buffer[:-1]"
   ]
  },
  {
   "cell_type": "code",
   "execution_count": null,
   "id": "5d42ffbb",
   "metadata": {},
   "outputs": [],
   "source": [
    "len(image_buffer)"
   ]
  },
  {
   "cell_type": "code",
   "execution_count": null,
   "id": "5d90b327",
   "metadata": {},
   "outputs": [],
   "source": [
    "plt.imshow(image_buffer[0])"
   ]
  },
  {
   "cell_type": "code",
   "execution_count": null,
   "id": "d26ccab9",
   "metadata": {},
   "outputs": [],
   "source": [
    "image_buffer = [cv2.cvtColor(img, cv2.COLOR_BGR2RGB) for img in image_buffer]"
   ]
  },
  {
   "cell_type": "code",
   "execution_count": null,
   "id": "c75b5b87",
   "metadata": {},
   "outputs": [],
   "source": [
    "plt.imshow(image_buffer[80])"
   ]
  },
  {
   "cell_type": "code",
   "execution_count": null,
   "id": "f2257a92",
   "metadata": {},
   "outputs": [],
   "source": [
    "image_buffer = [cv2.cvtColor(img, cv2.COLOR_RGB2GRAY) for img in image_buffer]"
   ]
  },
  {
   "cell_type": "code",
   "execution_count": null,
   "id": "1ef751ee",
   "metadata": {},
   "outputs": [],
   "source": [
    "plt.imshow(image_buffer[80], cmap=\"gray\")"
   ]
  },
  {
   "cell_type": "markdown",
   "id": "80587f43",
   "metadata": {},
   "source": [
    "# Video conversion"
   ]
  },
  {
   "cell_type": "code",
   "execution_count": null,
   "id": "f203bac6",
   "metadata": {},
   "outputs": [],
   "source": [
    "converted_images = frequency_conversion(image_buffer, 200, step=1)"
   ]
  },
  {
   "cell_type": "code",
   "execution_count": null,
   "id": "de4f775c",
   "metadata": {
    "scrolled": false
   },
   "outputs": [],
   "source": [
    "for img in converted_images[:15]:\n",
    "    plt.figure(figsize=(16, 9))\n",
    "    plt.imshow(img, cmap=\"gray\")\n",
    "    plt.show()"
   ]
  },
  {
   "cell_type": "markdown",
   "id": "b4ad6bdf",
   "metadata": {},
   "source": [
    "---"
   ]
  },
  {
   "cell_type": "code",
   "execution_count": null,
   "id": "55a46c92",
   "metadata": {},
   "outputs": [],
   "source": [
    "converted_images = amplitude_conversion(image_buffer)"
   ]
  },
  {
   "cell_type": "code",
   "execution_count": null,
   "id": "8b3f935a",
   "metadata": {},
   "outputs": [],
   "source": [
    "plt.figure(figsize=(16, 9))\n",
    "plt.imshow(converted_images[17], cmap=\"gray\")\n",
    "plt.show()"
   ]
  },
  {
   "cell_type": "code",
   "execution_count": null,
   "id": "25e7efed",
   "metadata": {},
   "outputs": [],
   "source": []
  }
 ],
 "metadata": {
  "kernelspec": {
   "display_name": "Python 3 (ipykernel)",
   "language": "python",
   "name": "python3"
  },
  "language_info": {
   "codemirror_mode": {
    "name": "ipython",
    "version": 3
   },
   "file_extension": ".py",
   "mimetype": "text/x-python",
   "name": "python",
   "nbconvert_exporter": "python",
   "pygments_lexer": "ipython3",
   "version": "3.7.13"
  }
 },
 "nbformat": 4,
 "nbformat_minor": 5
}
