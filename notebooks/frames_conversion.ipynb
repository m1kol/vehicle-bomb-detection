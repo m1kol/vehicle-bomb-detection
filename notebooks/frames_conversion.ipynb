{
 "cells": [
  {
   "cell_type": "code",
   "execution_count": null,
   "id": "ef536c5a",
   "metadata": {},
   "outputs": [],
   "source": [
    "%load_ext autoreload\n",
    "%autoreload 2"
   ]
  },
  {
   "cell_type": "code",
   "execution_count": null,
   "id": "efa7ae11",
   "metadata": {},
   "outputs": [],
   "source": [
    "import cv2\n",
    "import numpy as np\n",
    "import matplotlib.pyplot as plt"
   ]
  },
  {
   "cell_type": "code",
   "execution_count": null,
   "id": "e4eaebb2",
   "metadata": {},
   "outputs": [],
   "source": [
    "%matplotlib inline"
   ]
  },
  {
   "cell_type": "code",
   "execution_count": null,
   "id": "58d9ca5b",
   "metadata": {},
   "outputs": [],
   "source": [
    "cam = cv2.VideoCapture(0)"
   ]
  },
  {
   "cell_type": "code",
   "execution_count": null,
   "id": "1384e170",
   "metadata": {},
   "outputs": [],
   "source": [
    "image_buffer = []"
   ]
  },
  {
   "cell_type": "code",
   "execution_count": null,
   "id": "faf5f553",
   "metadata": {
    "scrolled": true
   },
   "outputs": [],
   "source": [
    "while True:\n",
    "    _, img = cam.read()\n",
    "    \n",
    "    plt.figure()\n",
    "    plt.imshow(cv2.cvtColor(img, cv2.COLOR_BGR2RGB))\n",
    "    plt.show()"
   ]
  },
  {
   "cell_type": "code",
   "execution_count": null,
   "id": "c7ffcf72",
   "metadata": {},
   "outputs": [],
   "source": [
    "cam.release()"
   ]
  },
  {
   "cell_type": "markdown",
   "id": "2edcb4fd",
   "metadata": {},
   "source": [
    "---"
   ]
  },
  {
   "cell_type": "code",
   "execution_count": null,
   "id": "ad7a6f6e",
   "metadata": {},
   "outputs": [],
   "source": [
    "cam = cv2.VideoCapture(0)"
   ]
  },
  {
   "cell_type": "code",
   "execution_count": null,
   "id": "d2f5f13e",
   "metadata": {},
   "outputs": [],
   "source": [
    "image_buffer = []\n",
    "for _ in range(200):\n",
    "    code, img = cam.read()\n",
    "    image_buffer.append(img)"
   ]
  },
  {
   "cell_type": "code",
   "execution_count": null,
   "id": "640b8cba",
   "metadata": {},
   "outputs": [],
   "source": [
    "cam.release()"
   ]
  },
  {
   "cell_type": "code",
   "execution_count": null,
   "id": "6b9c9bfc",
   "metadata": {},
   "outputs": [],
   "source": [
    "image_buffer = [cv2.cvtColor(img, cv2.COLOR_BGR2RGB) for img in image_buffer]"
   ]
  },
  {
   "cell_type": "markdown",
   "id": "fe1e358c",
   "metadata": {},
   "source": [
    "---"
   ]
  },
  {
   "cell_type": "code",
   "execution_count": null,
   "id": "bf11e25d",
   "metadata": {},
   "outputs": [],
   "source": [
    "import os\n",
    "import sys"
   ]
  },
  {
   "cell_type": "code",
   "execution_count": null,
   "id": "2d6239cd",
   "metadata": {},
   "outputs": [],
   "source": [
    "sys.path.append(\"../src/\")"
   ]
  },
  {
   "cell_type": "code",
   "execution_count": null,
   "id": "233afe79",
   "metadata": {},
   "outputs": [],
   "source": [
    "from frames_convertion import frequency_conversion, amplitude_conversion"
   ]
  },
  {
   "cell_type": "markdown",
   "id": "7f935182",
   "metadata": {},
   "source": [
    "---"
   ]
  },
  {
   "cell_type": "code",
   "execution_count": null,
   "id": "dc245361",
   "metadata": {},
   "outputs": [],
   "source": [
    "converted_frames = amplitude_conversion(image_buffer)"
   ]
  },
  {
   "cell_type": "code",
   "execution_count": null,
   "id": "a2112cf2",
   "metadata": {
    "scrolled": true
   },
   "outputs": [],
   "source": [
    "for img in converted_frames:\n",
    "    plt.figure()\n",
    "    plt.imshow(img)\n",
    "    plt.show()"
   ]
  },
  {
   "cell_type": "markdown",
   "id": "10acf6e7",
   "metadata": {},
   "source": [
    "---"
   ]
  },
  {
   "cell_type": "code",
   "execution_count": null,
   "id": "0a79291e",
   "metadata": {},
   "outputs": [],
   "source": [
    "converter = FrameConverter(\"freq\", 20)"
   ]
  },
  {
   "cell_type": "code",
   "execution_count": null,
   "id": "0bc28082",
   "metadata": {},
   "outputs": [],
   "source": [
    "converted_frames = converter.convert(image_buffer, compute_window=3)"
   ]
  },
  {
   "cell_type": "code",
   "execution_count": null,
   "id": "8288f6df",
   "metadata": {},
   "outputs": [],
   "source": [
    "len(converted_frames)"
   ]
  },
  {
   "cell_type": "code",
   "execution_count": null,
   "id": "2527297c",
   "metadata": {},
   "outputs": [],
   "source": [
    "converted_frames[2].shape"
   ]
  },
  {
   "cell_type": "code",
   "execution_count": null,
   "id": "9b29165d",
   "metadata": {
    "scrolled": true
   },
   "outputs": [],
   "source": [
    "for i in range(40):\n",
    "    plt.figure()\n",
    "    plt.imshow(converted_frames[i])\n",
    "    plt.show()"
   ]
  },
  {
   "cell_type": "code",
   "execution_count": null,
   "id": "9d90cc45",
   "metadata": {
    "scrolled": true
   },
   "outputs": [],
   "source": [
    "converted_frames[i]"
   ]
  },
  {
   "cell_type": "code",
   "execution_count": null,
   "id": "5b374ebf",
   "metadata": {},
   "outputs": [],
   "source": []
  }
 ],
 "metadata": {
  "kernelspec": {
   "display_name": "Python 3 (ipykernel)",
   "language": "python",
   "name": "python3"
  },
  "language_info": {
   "codemirror_mode": {
    "name": "ipython",
    "version": 3
   },
   "file_extension": ".py",
   "mimetype": "text/x-python",
   "name": "python",
   "nbconvert_exporter": "python",
   "pygments_lexer": "ipython3",
   "version": "3.7.13"
  }
 },
 "nbformat": 4,
 "nbformat_minor": 5
}
